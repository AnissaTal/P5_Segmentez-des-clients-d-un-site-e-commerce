{
 "cells": [
  {
   "cell_type": "code",
   "execution_count": 1,
   "id": "170e98e9",
   "metadata": {},
   "outputs": [],
   "source": [
    "import pandas as pd\n",
    "import numpy as np\n",
    "import matplotlib.pyplot as plt\n",
    "import seaborn as sns"
   ]
  },
  {
   "cell_type": "code",
   "execution_count": 2,
   "id": "3b4e8e39",
   "metadata": {},
   "outputs": [],
   "source": [
    "df_ordres=pd.read_csv('olist_orders_dataset.csv')"
   ]
  },
  {
   "cell_type": "code",
   "execution_count": 3,
   "id": "dd5ac5d7",
   "metadata": {},
   "outputs": [],
   "source": [
    "df_payments =pd.read_csv('olist_order_payments_dataset.csv')"
   ]
  },
  {
   "cell_type": "code",
   "execution_count": 4,
   "id": "83e13715",
   "metadata": {},
   "outputs": [],
   "source": [
    "df_customers = pd.read_csv('olist_customers_dataset.csv')"
   ]
  },
  {
   "cell_type": "markdown",
   "id": "e3b1641b",
   "metadata": {},
   "source": [
    "## Exploration"
   ]
  },
  {
   "cell_type": "code",
   "execution_count": 5,
   "id": "6147ddca",
   "metadata": {},
   "outputs": [
    {
     "data": {
      "text/plain": [
       "(99441, 8)"
      ]
     },
     "execution_count": 5,
     "metadata": {},
     "output_type": "execute_result"
    }
   ],
   "source": [
    "df_ordres.shape"
   ]
  },
  {
   "cell_type": "code",
   "execution_count": 6,
   "id": "85f0fe12",
   "metadata": {},
   "outputs": [
    {
     "data": {
      "text/html": [
       "<div>\n",
       "<style scoped>\n",
       "    .dataframe tbody tr th:only-of-type {\n",
       "        vertical-align: middle;\n",
       "    }\n",
       "\n",
       "    .dataframe tbody tr th {\n",
       "        vertical-align: top;\n",
       "    }\n",
       "\n",
       "    .dataframe thead th {\n",
       "        text-align: right;\n",
       "    }\n",
       "</style>\n",
       "<table border=\"1\" class=\"dataframe\">\n",
       "  <thead>\n",
       "    <tr style=\"text-align: right;\">\n",
       "      <th></th>\n",
       "      <th>order_id</th>\n",
       "      <th>customer_id</th>\n",
       "      <th>order_status</th>\n",
       "      <th>order_purchase_timestamp</th>\n",
       "      <th>order_approved_at</th>\n",
       "      <th>order_delivered_carrier_date</th>\n",
       "      <th>order_delivered_customer_date</th>\n",
       "      <th>order_estimated_delivery_date</th>\n",
       "    </tr>\n",
       "  </thead>\n",
       "  <tbody>\n",
       "    <tr>\n",
       "      <th>0</th>\n",
       "      <td>e481f51cbdc54678b7cc49136f2d6af7</td>\n",
       "      <td>9ef432eb6251297304e76186b10a928d</td>\n",
       "      <td>delivered</td>\n",
       "      <td>2017-10-02 10:56:33</td>\n",
       "      <td>2017-10-02 11:07:15</td>\n",
       "      <td>2017-10-04 19:55:00</td>\n",
       "      <td>2017-10-10 21:25:13</td>\n",
       "      <td>2017-10-18 00:00:00</td>\n",
       "    </tr>\n",
       "    <tr>\n",
       "      <th>1</th>\n",
       "      <td>53cdb2fc8bc7dce0b6741e2150273451</td>\n",
       "      <td>b0830fb4747a6c6d20dea0b8c802d7ef</td>\n",
       "      <td>delivered</td>\n",
       "      <td>2018-07-24 20:41:37</td>\n",
       "      <td>2018-07-26 03:24:27</td>\n",
       "      <td>2018-07-26 14:31:00</td>\n",
       "      <td>2018-08-07 15:27:45</td>\n",
       "      <td>2018-08-13 00:00:00</td>\n",
       "    </tr>\n",
       "    <tr>\n",
       "      <th>2</th>\n",
       "      <td>47770eb9100c2d0c44946d9cf07ec65d</td>\n",
       "      <td>41ce2a54c0b03bf3443c3d931a367089</td>\n",
       "      <td>delivered</td>\n",
       "      <td>2018-08-08 08:38:49</td>\n",
       "      <td>2018-08-08 08:55:23</td>\n",
       "      <td>2018-08-08 13:50:00</td>\n",
       "      <td>2018-08-17 18:06:29</td>\n",
       "      <td>2018-09-04 00:00:00</td>\n",
       "    </tr>\n",
       "    <tr>\n",
       "      <th>3</th>\n",
       "      <td>949d5b44dbf5de918fe9c16f97b45f8a</td>\n",
       "      <td>f88197465ea7920adcdbec7375364d82</td>\n",
       "      <td>delivered</td>\n",
       "      <td>2017-11-18 19:28:06</td>\n",
       "      <td>2017-11-18 19:45:59</td>\n",
       "      <td>2017-11-22 13:39:59</td>\n",
       "      <td>2017-12-02 00:28:42</td>\n",
       "      <td>2017-12-15 00:00:00</td>\n",
       "    </tr>\n",
       "    <tr>\n",
       "      <th>4</th>\n",
       "      <td>ad21c59c0840e6cb83a9ceb5573f8159</td>\n",
       "      <td>8ab97904e6daea8866dbdbc4fb7aad2c</td>\n",
       "      <td>delivered</td>\n",
       "      <td>2018-02-13 21:18:39</td>\n",
       "      <td>2018-02-13 22:20:29</td>\n",
       "      <td>2018-02-14 19:46:34</td>\n",
       "      <td>2018-02-16 18:17:02</td>\n",
       "      <td>2018-02-26 00:00:00</td>\n",
       "    </tr>\n",
       "    <tr>\n",
       "      <th>...</th>\n",
       "      <td>...</td>\n",
       "      <td>...</td>\n",
       "      <td>...</td>\n",
       "      <td>...</td>\n",
       "      <td>...</td>\n",
       "      <td>...</td>\n",
       "      <td>...</td>\n",
       "      <td>...</td>\n",
       "    </tr>\n",
       "    <tr>\n",
       "      <th>99436</th>\n",
       "      <td>9c5dedf39a927c1b2549525ed64a053c</td>\n",
       "      <td>39bd1228ee8140590ac3aca26f2dfe00</td>\n",
       "      <td>delivered</td>\n",
       "      <td>2017-03-09 09:54:05</td>\n",
       "      <td>2017-03-09 09:54:05</td>\n",
       "      <td>2017-03-10 11:18:03</td>\n",
       "      <td>2017-03-17 15:08:01</td>\n",
       "      <td>2017-03-28 00:00:00</td>\n",
       "    </tr>\n",
       "    <tr>\n",
       "      <th>99437</th>\n",
       "      <td>63943bddc261676b46f01ca7ac2f7bd8</td>\n",
       "      <td>1fca14ff2861355f6e5f14306ff977a7</td>\n",
       "      <td>delivered</td>\n",
       "      <td>2018-02-06 12:58:58</td>\n",
       "      <td>2018-02-06 13:10:37</td>\n",
       "      <td>2018-02-07 23:22:42</td>\n",
       "      <td>2018-02-28 17:37:56</td>\n",
       "      <td>2018-03-02 00:00:00</td>\n",
       "    </tr>\n",
       "    <tr>\n",
       "      <th>99438</th>\n",
       "      <td>83c1379a015df1e13d02aae0204711ab</td>\n",
       "      <td>1aa71eb042121263aafbe80c1b562c9c</td>\n",
       "      <td>delivered</td>\n",
       "      <td>2017-08-27 14:46:43</td>\n",
       "      <td>2017-08-27 15:04:16</td>\n",
       "      <td>2017-08-28 20:52:26</td>\n",
       "      <td>2017-09-21 11:24:17</td>\n",
       "      <td>2017-09-27 00:00:00</td>\n",
       "    </tr>\n",
       "    <tr>\n",
       "      <th>99439</th>\n",
       "      <td>11c177c8e97725db2631073c19f07b62</td>\n",
       "      <td>b331b74b18dc79bcdf6532d51e1637c1</td>\n",
       "      <td>delivered</td>\n",
       "      <td>2018-01-08 21:28:27</td>\n",
       "      <td>2018-01-08 21:36:21</td>\n",
       "      <td>2018-01-12 15:35:03</td>\n",
       "      <td>2018-01-25 23:32:54</td>\n",
       "      <td>2018-02-15 00:00:00</td>\n",
       "    </tr>\n",
       "    <tr>\n",
       "      <th>99440</th>\n",
       "      <td>66dea50a8b16d9b4dee7af250b4be1a5</td>\n",
       "      <td>edb027a75a1449115f6b43211ae02a24</td>\n",
       "      <td>delivered</td>\n",
       "      <td>2018-03-08 20:57:30</td>\n",
       "      <td>2018-03-09 11:20:28</td>\n",
       "      <td>2018-03-09 22:11:59</td>\n",
       "      <td>2018-03-16 13:08:30</td>\n",
       "      <td>2018-04-03 00:00:00</td>\n",
       "    </tr>\n",
       "  </tbody>\n",
       "</table>\n",
       "<p>99441 rows × 8 columns</p>\n",
       "</div>"
      ],
      "text/plain": [
       "                               order_id                       customer_id  \\\n",
       "0      e481f51cbdc54678b7cc49136f2d6af7  9ef432eb6251297304e76186b10a928d   \n",
       "1      53cdb2fc8bc7dce0b6741e2150273451  b0830fb4747a6c6d20dea0b8c802d7ef   \n",
       "2      47770eb9100c2d0c44946d9cf07ec65d  41ce2a54c0b03bf3443c3d931a367089   \n",
       "3      949d5b44dbf5de918fe9c16f97b45f8a  f88197465ea7920adcdbec7375364d82   \n",
       "4      ad21c59c0840e6cb83a9ceb5573f8159  8ab97904e6daea8866dbdbc4fb7aad2c   \n",
       "...                                 ...                               ...   \n",
       "99436  9c5dedf39a927c1b2549525ed64a053c  39bd1228ee8140590ac3aca26f2dfe00   \n",
       "99437  63943bddc261676b46f01ca7ac2f7bd8  1fca14ff2861355f6e5f14306ff977a7   \n",
       "99438  83c1379a015df1e13d02aae0204711ab  1aa71eb042121263aafbe80c1b562c9c   \n",
       "99439  11c177c8e97725db2631073c19f07b62  b331b74b18dc79bcdf6532d51e1637c1   \n",
       "99440  66dea50a8b16d9b4dee7af250b4be1a5  edb027a75a1449115f6b43211ae02a24   \n",
       "\n",
       "      order_status order_purchase_timestamp    order_approved_at  \\\n",
       "0        delivered      2017-10-02 10:56:33  2017-10-02 11:07:15   \n",
       "1        delivered      2018-07-24 20:41:37  2018-07-26 03:24:27   \n",
       "2        delivered      2018-08-08 08:38:49  2018-08-08 08:55:23   \n",
       "3        delivered      2017-11-18 19:28:06  2017-11-18 19:45:59   \n",
       "4        delivered      2018-02-13 21:18:39  2018-02-13 22:20:29   \n",
       "...            ...                      ...                  ...   \n",
       "99436    delivered      2017-03-09 09:54:05  2017-03-09 09:54:05   \n",
       "99437    delivered      2018-02-06 12:58:58  2018-02-06 13:10:37   \n",
       "99438    delivered      2017-08-27 14:46:43  2017-08-27 15:04:16   \n",
       "99439    delivered      2018-01-08 21:28:27  2018-01-08 21:36:21   \n",
       "99440    delivered      2018-03-08 20:57:30  2018-03-09 11:20:28   \n",
       "\n",
       "      order_delivered_carrier_date order_delivered_customer_date  \\\n",
       "0              2017-10-04 19:55:00           2017-10-10 21:25:13   \n",
       "1              2018-07-26 14:31:00           2018-08-07 15:27:45   \n",
       "2              2018-08-08 13:50:00           2018-08-17 18:06:29   \n",
       "3              2017-11-22 13:39:59           2017-12-02 00:28:42   \n",
       "4              2018-02-14 19:46:34           2018-02-16 18:17:02   \n",
       "...                            ...                           ...   \n",
       "99436          2017-03-10 11:18:03           2017-03-17 15:08:01   \n",
       "99437          2018-02-07 23:22:42           2018-02-28 17:37:56   \n",
       "99438          2017-08-28 20:52:26           2017-09-21 11:24:17   \n",
       "99439          2018-01-12 15:35:03           2018-01-25 23:32:54   \n",
       "99440          2018-03-09 22:11:59           2018-03-16 13:08:30   \n",
       "\n",
       "      order_estimated_delivery_date  \n",
       "0               2017-10-18 00:00:00  \n",
       "1               2018-08-13 00:00:00  \n",
       "2               2018-09-04 00:00:00  \n",
       "3               2017-12-15 00:00:00  \n",
       "4               2018-02-26 00:00:00  \n",
       "...                             ...  \n",
       "99436           2017-03-28 00:00:00  \n",
       "99437           2018-03-02 00:00:00  \n",
       "99438           2017-09-27 00:00:00  \n",
       "99439           2018-02-15 00:00:00  \n",
       "99440           2018-04-03 00:00:00  \n",
       "\n",
       "[99441 rows x 8 columns]"
      ]
     },
     "execution_count": 6,
     "metadata": {},
     "output_type": "execute_result"
    }
   ],
   "source": [
    "df_ordres"
   ]
  },
  {
   "cell_type": "markdown",
   "id": "964c42b9",
   "metadata": {},
   "source": [
    "### Valeurs manquantes :"
   ]
  },
  {
   "cell_type": "code",
   "execution_count": 7,
   "id": "ecf6a970",
   "metadata": {},
   "outputs": [
    {
     "data": {
      "text/plain": [
       "order_id                            0\n",
       "customer_id                         0\n",
       "order_status                        0\n",
       "order_purchase_timestamp            0\n",
       "order_approved_at                 160\n",
       "order_delivered_carrier_date     1783\n",
       "order_delivered_customer_date    2965\n",
       "order_estimated_delivery_date       0\n",
       "dtype: int64"
      ]
     },
     "execution_count": 7,
     "metadata": {},
     "output_type": "execute_result"
    }
   ],
   "source": [
    "df_ordres.isna().sum()"
   ]
  },
  {
   "cell_type": "markdown",
   "id": "5fdcddba",
   "metadata": {},
   "source": [
    "==> étant donné que nous allons s'interesser uniquement à quelques colonnes notamment aux colonnes : 'order_id', 'customer_id', 'order_status', 'order_purchase_timestamp' SANS NAN donc pas de traitement à faire "
   ]
  },
  {
   "cell_type": "code",
   "execution_count": 8,
   "id": "8962340e",
   "metadata": {},
   "outputs": [
    {
     "data": {
      "text/plain": [
       "order_id                0\n",
       "payment_sequential      0\n",
       "payment_type            0\n",
       "payment_installments    0\n",
       "payment_value           0\n",
       "dtype: int64"
      ]
     },
     "execution_count": 8,
     "metadata": {},
     "output_type": "execute_result"
    }
   ],
   "source": [
    "df_payments.isna().sum()"
   ]
  },
  {
   "cell_type": "code",
   "execution_count": 9,
   "id": "205fd172",
   "metadata": {},
   "outputs": [],
   "source": [
    "## Eliminer les commandes annulées et indisponible\n",
    "df_ordres.drop(df_ordres.loc[df_ordres['order_status']=='unavailable'].index, inplace=True)\n",
    "df_ordres.drop(df_ordres.loc[df_ordres['order_status']=='canceled'].index, inplace=True)"
   ]
  },
  {
   "cell_type": "code",
   "execution_count": 10,
   "id": "26919b2f",
   "metadata": {},
   "outputs": [
    {
     "data": {
      "text/plain": [
       "array(['delivered', 'invoiced', 'shipped', 'processing', 'created',\n",
       "       'approved'], dtype=object)"
      ]
     },
     "execution_count": 10,
     "metadata": {},
     "output_type": "execute_result"
    }
   ],
   "source": [
    "df_ordres['order_status'].unique()"
   ]
  },
  {
   "cell_type": "code",
   "execution_count": 11,
   "id": "08d08e7c",
   "metadata": {},
   "outputs": [
    {
     "data": {
      "text/plain": [
       "Index(['order_id', 'customer_id', 'order_status', 'order_purchase_timestamp',\n",
       "       'order_approved_at', 'order_delivered_carrier_date',\n",
       "       'order_delivered_customer_date', 'order_estimated_delivery_date'],\n",
       "      dtype='object')"
      ]
     },
     "execution_count": 11,
     "metadata": {},
     "output_type": "execute_result"
    }
   ],
   "source": [
    "df_ordres.columns"
   ]
  },
  {
   "cell_type": "code",
   "execution_count": 12,
   "id": "e3f53def",
   "metadata": {},
   "outputs": [
    {
     "data": {
      "text/plain": [
       "Index(['order_id', 'payment_sequential', 'payment_type',\n",
       "       'payment_installments', 'payment_value'],\n",
       "      dtype='object')"
      ]
     },
     "execution_count": 12,
     "metadata": {},
     "output_type": "execute_result"
    }
   ],
   "source": [
    "df_payments.columns"
   ]
  },
  {
   "cell_type": "code",
   "execution_count": 13,
   "id": "801f1007",
   "metadata": {},
   "outputs": [],
   "source": [
    "#définir une fonction pour vérifier l'unicité de valeurs dans une colonne\n",
    "def unicite(nomColonne) :\n",
    "    return len(nomColonne.unique())==len(nomColonne)\n",
    "    "
   ]
  },
  {
   "cell_type": "code",
   "execution_count": 14,
   "id": "c3bb22af",
   "metadata": {},
   "outputs": [
    {
     "data": {
      "text/plain": [
       "True"
      ]
     },
     "execution_count": 14,
     "metadata": {},
     "output_type": "execute_result"
    }
   ],
   "source": [
    "unicite(df_ordres['order_id'])"
   ]
  },
  {
   "cell_type": "code",
   "execution_count": 15,
   "id": "0a84848d",
   "metadata": {},
   "outputs": [
    {
     "data": {
      "text/plain": [
       "False"
      ]
     },
     "execution_count": 15,
     "metadata": {},
     "output_type": "execute_result"
    }
   ],
   "source": [
    "unicite(df_payments['order_id'])"
   ]
  },
  {
   "cell_type": "markdown",
   "id": "fe523e90",
   "metadata": {},
   "source": [
    "==> beaucoup de payments pour le meme order-id dans la table payments"
   ]
  },
  {
   "cell_type": "code",
   "execution_count": 16,
   "id": "2db9d9df",
   "metadata": {},
   "outputs": [],
   "source": [
    "# creer un tableau avec des fonc d'agg differentes\n",
    "df_payments_f=df_payments.groupby('order_id').agg({'payment_installments':'first','payment_value':'sum'})"
   ]
  },
  {
   "cell_type": "code",
   "execution_count": 17,
   "id": "fa445102",
   "metadata": {},
   "outputs": [],
   "source": [
    "#convertir la colonne order_id en colonne (avant colonne index)\n",
    "df_payments_f.reset_index(level=0, inplace=True)"
   ]
  },
  {
   "cell_type": "code",
   "execution_count": 18,
   "id": "aebb32d3",
   "metadata": {},
   "outputs": [],
   "source": [
    "#creer le tableau MyOrder = Order_id+customer_id+date_commande(order purchase timestamp)+montant_commande(payment value)\n",
    "# on prend uniquement les \"order_id\" présents dans la table orders\n",
    "oder_df = pd.merge(left=df_ordres, right=df_payments_f, how='inner', on='order_id')"
   ]
  },
  {
   "cell_type": "code",
   "execution_count": 19,
   "id": "3c8801ce",
   "metadata": {},
   "outputs": [
    {
     "data": {
      "text/plain": [
       "order_id                            0\n",
       "customer_id                         0\n",
       "order_status                        0\n",
       "order_purchase_timestamp            0\n",
       "order_approved_at                  19\n",
       "order_delivered_carrier_date      624\n",
       "order_delivered_customer_date    1737\n",
       "order_estimated_delivery_date       0\n",
       "payment_installments                0\n",
       "payment_value                       0\n",
       "dtype: int64"
      ]
     },
     "execution_count": 19,
     "metadata": {},
     "output_type": "execute_result"
    }
   ],
   "source": [
    "oder_df.isna().sum()"
   ]
  },
  {
   "cell_type": "code",
   "execution_count": 20,
   "id": "c6840197",
   "metadata": {},
   "outputs": [],
   "source": [
    " df_my_orders=oder_df[['order_id', 'customer_id', 'order_purchase_timestamp','payment_value','payment_installments']]"
   ]
  },
  {
   "cell_type": "code",
   "execution_count": 21,
   "id": "91b432c9",
   "metadata": {},
   "outputs": [],
   "source": [
    "#Créer  LA TABLE CUSTOMER_ID ET CUSTOMER_UNIQUE_ID "
   ]
  },
  {
   "cell_type": "code",
   "execution_count": 22,
   "id": "36e65398",
   "metadata": {},
   "outputs": [
    {
     "data": {
      "text/plain": [
       "customer_id                 0\n",
       "customer_unique_id          0\n",
       "customer_zip_code_prefix    0\n",
       "customer_city               0\n",
       "customer_state              0\n",
       "dtype: int64"
      ]
     },
     "execution_count": 22,
     "metadata": {},
     "output_type": "execute_result"
    }
   ],
   "source": [
    "df_customers.isna().sum()"
   ]
  },
  {
   "cell_type": "code",
   "execution_count": 23,
   "id": "19e97b48",
   "metadata": {},
   "outputs": [],
   "source": [
    "df_cust_uniq =df_customers[['customer_id', 'customer_unique_id']]"
   ]
  },
  {
   "cell_type": "code",
   "execution_count": 24,
   "id": "400a17c0",
   "metadata": {},
   "outputs": [],
   "source": [
    "#Merger la teable df_cut_uniq avec df_my_orders"
   ]
  },
  {
   "cell_type": "code",
   "execution_count": 25,
   "id": "8f063861",
   "metadata": {},
   "outputs": [],
   "source": [
    "my_order_df = pd.merge(left=df_my_orders, right=df_cust_uniq, how='left', on='customer_id')"
   ]
  },
  {
   "cell_type": "code",
   "execution_count": 26,
   "id": "5bab8f54",
   "metadata": {},
   "outputs": [
    {
     "data": {
      "text/plain": [
       "order_id                    0\n",
       "customer_id                 0\n",
       "order_purchase_timestamp    0\n",
       "payment_value               0\n",
       "payment_installments        0\n",
       "customer_unique_id          0\n",
       "dtype: int64"
      ]
     },
     "execution_count": 26,
     "metadata": {},
     "output_type": "execute_result"
    }
   ],
   "source": [
    "my_order_df.isna().sum()"
   ]
  },
  {
   "cell_type": "code",
   "execution_count": 27,
   "id": "c374eaa8",
   "metadata": {},
   "outputs": [
    {
     "data": {
      "text/plain": [
       "Index(['order_id', 'customer_id', 'order_purchase_timestamp', 'payment_value',\n",
       "       'payment_installments', 'customer_unique_id'],\n",
       "      dtype='object')"
      ]
     },
     "execution_count": 27,
     "metadata": {},
     "output_type": "execute_result"
    }
   ],
   "source": [
    "my_order_df.columns"
   ]
  },
  {
   "cell_type": "code",
   "execution_count": 28,
   "id": "c21a6963",
   "metadata": {},
   "outputs": [],
   "source": [
    "#Préparer la colonne review score commande\n",
    "review= pd.read_csv('olist_order_reviews_dataset.csv')"
   ]
  },
  {
   "cell_type": "code",
   "execution_count": 29,
   "id": "1df8cdf3",
   "metadata": {},
   "outputs": [
    {
     "data": {
      "text/plain": [
       "review_id                      0\n",
       "order_id                       0\n",
       "review_score                   0\n",
       "review_comment_title       87656\n",
       "review_comment_message     58247\n",
       "review_creation_date           0\n",
       "review_answer_timestamp        0\n",
       "dtype: int64"
      ]
     },
     "execution_count": 29,
     "metadata": {},
     "output_type": "execute_result"
    }
   ],
   "source": [
    "review.isna().sum()"
   ]
  },
  {
   "cell_type": "code",
   "execution_count": 30,
   "id": "7eaa800c",
   "metadata": {},
   "outputs": [
    {
     "data": {
      "text/plain": [
       "Index(['review_id', 'order_id', 'review_score', 'review_comment_title',\n",
       "       'review_comment_message', 'review_creation_date',\n",
       "       'review_answer_timestamp'],\n",
       "      dtype='object')"
      ]
     },
     "execution_count": 30,
     "metadata": {},
     "output_type": "execute_result"
    }
   ],
   "source": [
    "review.columns"
   ]
  },
  {
   "cell_type": "code",
   "execution_count": 31,
   "id": "daaec2f8",
   "metadata": {},
   "outputs": [],
   "source": [
    "review_score_c=review[['order_id', 'review_score']]"
   ]
  },
  {
   "cell_type": "code",
   "execution_count": 32,
   "id": "be11d2d9",
   "metadata": {},
   "outputs": [
    {
     "data": {
      "text/plain": [
       "False"
      ]
     },
     "execution_count": 32,
     "metadata": {},
     "output_type": "execute_result"
    }
   ],
   "source": [
    "unicite(review_score_c['order_id'])"
   ]
  },
  {
   "cell_type": "code",
   "execution_count": 33,
   "id": "0dd75a75",
   "metadata": {},
   "outputs": [
    {
     "data": {
      "text/html": [
       "<div>\n",
       "<style scoped>\n",
       "    .dataframe tbody tr th:only-of-type {\n",
       "        vertical-align: middle;\n",
       "    }\n",
       "\n",
       "    .dataframe tbody tr th {\n",
       "        vertical-align: top;\n",
       "    }\n",
       "\n",
       "    .dataframe thead th {\n",
       "        text-align: right;\n",
       "    }\n",
       "</style>\n",
       "<table border=\"1\" class=\"dataframe\">\n",
       "  <thead>\n",
       "    <tr style=\"text-align: right;\">\n",
       "      <th></th>\n",
       "      <th>order_id</th>\n",
       "      <th>review_score</th>\n",
       "    </tr>\n",
       "  </thead>\n",
       "  <tbody>\n",
       "    <tr>\n",
       "      <th>0</th>\n",
       "      <td>73fc7af87114b39712e6da79b0a377eb</td>\n",
       "      <td>4</td>\n",
       "    </tr>\n",
       "    <tr>\n",
       "      <th>1</th>\n",
       "      <td>a548910a1c6147796b98fdf73dbeba33</td>\n",
       "      <td>5</td>\n",
       "    </tr>\n",
       "    <tr>\n",
       "      <th>2</th>\n",
       "      <td>f9e4b658b201a9f2ecdecbb34bed034b</td>\n",
       "      <td>5</td>\n",
       "    </tr>\n",
       "    <tr>\n",
       "      <th>3</th>\n",
       "      <td>658677c97b385a9be170737859d3511b</td>\n",
       "      <td>5</td>\n",
       "    </tr>\n",
       "    <tr>\n",
       "      <th>4</th>\n",
       "      <td>8e6bfb81e283fa7e4f11123a3fb894f1</td>\n",
       "      <td>5</td>\n",
       "    </tr>\n",
       "    <tr>\n",
       "      <th>...</th>\n",
       "      <td>...</td>\n",
       "      <td>...</td>\n",
       "    </tr>\n",
       "    <tr>\n",
       "      <th>99219</th>\n",
       "      <td>2a8c23fee101d4d5662fa670396eb8da</td>\n",
       "      <td>5</td>\n",
       "    </tr>\n",
       "    <tr>\n",
       "      <th>99220</th>\n",
       "      <td>22ec9f0669f784db00fa86d035cf8602</td>\n",
       "      <td>5</td>\n",
       "    </tr>\n",
       "    <tr>\n",
       "      <th>99221</th>\n",
       "      <td>55d4004744368f5571d1f590031933e4</td>\n",
       "      <td>5</td>\n",
       "    </tr>\n",
       "    <tr>\n",
       "      <th>99222</th>\n",
       "      <td>7725825d039fc1f0ceb7635e3f7d9206</td>\n",
       "      <td>4</td>\n",
       "    </tr>\n",
       "    <tr>\n",
       "      <th>99223</th>\n",
       "      <td>90531360ecb1eec2a1fbb265a0db0508</td>\n",
       "      <td>1</td>\n",
       "    </tr>\n",
       "  </tbody>\n",
       "</table>\n",
       "<p>99224 rows × 2 columns</p>\n",
       "</div>"
      ],
      "text/plain": [
       "                               order_id  review_score\n",
       "0      73fc7af87114b39712e6da79b0a377eb             4\n",
       "1      a548910a1c6147796b98fdf73dbeba33             5\n",
       "2      f9e4b658b201a9f2ecdecbb34bed034b             5\n",
       "3      658677c97b385a9be170737859d3511b             5\n",
       "4      8e6bfb81e283fa7e4f11123a3fb894f1             5\n",
       "...                                 ...           ...\n",
       "99219  2a8c23fee101d4d5662fa670396eb8da             5\n",
       "99220  22ec9f0669f784db00fa86d035cf8602             5\n",
       "99221  55d4004744368f5571d1f590031933e4             5\n",
       "99222  7725825d039fc1f0ceb7635e3f7d9206             4\n",
       "99223  90531360ecb1eec2a1fbb265a0db0508             1\n",
       "\n",
       "[99224 rows x 2 columns]"
      ]
     },
     "execution_count": 33,
     "metadata": {},
     "output_type": "execute_result"
    }
   ],
   "source": [
    "review_score_c"
   ]
  },
  {
   "cell_type": "code",
   "execution_count": 34,
   "id": "a7e99db9",
   "metadata": {},
   "outputs": [],
   "source": [
    "review_score_c= review_score_c.groupby('order_id').mean()\n"
   ]
  },
  {
   "cell_type": "code",
   "execution_count": 35,
   "id": "2874d6d2",
   "metadata": {},
   "outputs": [
    {
     "data": {
      "text/html": [
       "<div>\n",
       "<style scoped>\n",
       "    .dataframe tbody tr th:only-of-type {\n",
       "        vertical-align: middle;\n",
       "    }\n",
       "\n",
       "    .dataframe tbody tr th {\n",
       "        vertical-align: top;\n",
       "    }\n",
       "\n",
       "    .dataframe thead th {\n",
       "        text-align: right;\n",
       "    }\n",
       "</style>\n",
       "<table border=\"1\" class=\"dataframe\">\n",
       "  <thead>\n",
       "    <tr style=\"text-align: right;\">\n",
       "      <th></th>\n",
       "      <th>review_score</th>\n",
       "    </tr>\n",
       "    <tr>\n",
       "      <th>order_id</th>\n",
       "      <th></th>\n",
       "    </tr>\n",
       "  </thead>\n",
       "  <tbody>\n",
       "    <tr>\n",
       "      <th>00010242fe8c5a6d1ba2dd792cb16214</th>\n",
       "      <td>5.0</td>\n",
       "    </tr>\n",
       "    <tr>\n",
       "      <th>00018f77f2f0320c557190d7a144bdd3</th>\n",
       "      <td>4.0</td>\n",
       "    </tr>\n",
       "    <tr>\n",
       "      <th>000229ec398224ef6ca0657da4fc703e</th>\n",
       "      <td>5.0</td>\n",
       "    </tr>\n",
       "    <tr>\n",
       "      <th>00024acbcdf0a6daa1e931b038114c75</th>\n",
       "      <td>4.0</td>\n",
       "    </tr>\n",
       "    <tr>\n",
       "      <th>00042b26cf59d7ce69dfabb4e55b4fd9</th>\n",
       "      <td>5.0</td>\n",
       "    </tr>\n",
       "    <tr>\n",
       "      <th>...</th>\n",
       "      <td>...</td>\n",
       "    </tr>\n",
       "    <tr>\n",
       "      <th>fffc94f6ce00a00581880bf54a75a037</th>\n",
       "      <td>5.0</td>\n",
       "    </tr>\n",
       "    <tr>\n",
       "      <th>fffcd46ef2263f404302a634eb57f7eb</th>\n",
       "      <td>5.0</td>\n",
       "    </tr>\n",
       "    <tr>\n",
       "      <th>fffce4705a9662cd70adb13d4a31832d</th>\n",
       "      <td>5.0</td>\n",
       "    </tr>\n",
       "    <tr>\n",
       "      <th>fffe18544ffabc95dfada21779c9644f</th>\n",
       "      <td>5.0</td>\n",
       "    </tr>\n",
       "    <tr>\n",
       "      <th>fffe41c64501cc87c801fd61db3f6244</th>\n",
       "      <td>5.0</td>\n",
       "    </tr>\n",
       "  </tbody>\n",
       "</table>\n",
       "<p>98673 rows × 1 columns</p>\n",
       "</div>"
      ],
      "text/plain": [
       "                                  review_score\n",
       "order_id                                      \n",
       "00010242fe8c5a6d1ba2dd792cb16214           5.0\n",
       "00018f77f2f0320c557190d7a144bdd3           4.0\n",
       "000229ec398224ef6ca0657da4fc703e           5.0\n",
       "00024acbcdf0a6daa1e931b038114c75           4.0\n",
       "00042b26cf59d7ce69dfabb4e55b4fd9           5.0\n",
       "...                                        ...\n",
       "fffc94f6ce00a00581880bf54a75a037           5.0\n",
       "fffcd46ef2263f404302a634eb57f7eb           5.0\n",
       "fffce4705a9662cd70adb13d4a31832d           5.0\n",
       "fffe18544ffabc95dfada21779c9644f           5.0\n",
       "fffe41c64501cc87c801fd61db3f6244           5.0\n",
       "\n",
       "[98673 rows x 1 columns]"
      ]
     },
     "execution_count": 35,
     "metadata": {},
     "output_type": "execute_result"
    }
   ],
   "source": [
    "review_score_c"
   ]
  },
  {
   "cell_type": "code",
   "execution_count": 36,
   "id": "47d916fb",
   "metadata": {},
   "outputs": [],
   "source": [
    "# Table my_ordre  à prévoir \n",
    "## joindre la colonne review score commande\n",
    "df_my_orders_futur = pd.merge(left=my_order_df,right=review_score_c,how='left',on='order_id')"
   ]
  },
  {
   "cell_type": "code",
   "execution_count": 37,
   "id": "c927e776",
   "metadata": {},
   "outputs": [
    {
     "data": {
      "text/plain": [
       "order_id                      0\n",
       "customer_id                   0\n",
       "order_purchase_timestamp      0\n",
       "payment_value                 0\n",
       "payment_installments          0\n",
       "customer_unique_id            0\n",
       "review_score                734\n",
       "dtype: int64"
      ]
     },
     "execution_count": 37,
     "metadata": {},
     "output_type": "execute_result"
    }
   ],
   "source": [
    "df_my_orders_futur.isna().sum()"
   ]
  },
  {
   "cell_type": "code",
   "execution_count": 38,
   "id": "899d6baf",
   "metadata": {},
   "outputs": [
    {
     "data": {
      "text/plain": [
       "Index(['order_id', 'customer_id', 'order_purchase_timestamp', 'payment_value',\n",
       "       'payment_installments', 'customer_unique_id', 'review_score'],\n",
       "      dtype='object')"
      ]
     },
     "execution_count": 38,
     "metadata": {},
     "output_type": "execute_result"
    }
   ],
   "source": [
    "df_my_orders_futur.columns"
   ]
  },
  {
   "cell_type": "code",
   "execution_count": 39,
   "id": "b37cc2fb",
   "metadata": {},
   "outputs": [
    {
     "data": {
      "text/plain": [
       "order_id                      0\n",
       "customer_id                   0\n",
       "order_purchase_timestamp      0\n",
       "payment_value                 0\n",
       "payment_installments          0\n",
       "customer_unique_id            0\n",
       "review_score                734\n",
       "dtype: int64"
      ]
     },
     "execution_count": 39,
     "metadata": {},
     "output_type": "execute_result"
    }
   ],
   "source": [
    "df_my_orders_futur.isna().sum()"
   ]
  },
  {
   "cell_type": "code",
   "execution_count": 40,
   "id": "f0af647e",
   "metadata": {},
   "outputs": [],
   "source": [
    "#date ref est la date de toute dernière commande de la table my_orders donc la plus récente\n",
    "from datetime import timedelta, date\n",
    "\n",
    "my_order_df['order_purchase_timestamp'] = pd.to_datetime(my_order_df['order_purchase_timestamp'])\n",
    "\n",
    "\n",
    "my_order_df=my_order_df.sort_values('order_purchase_timestamp',ascending=True)\n",
    "date_ref = my_order_df['order_purchase_timestamp'].iloc[-1] \n",
    "\n",
    "## créer une nouvelle colonne date dif\n",
    "df_my_orders_futur['date_diff']= my_order_df['order_purchase_timestamp'].apply(lambda date: date_ref - date)\n",
    "\n",
    "# prendre uniquement les jours\n",
    "df_my_orders_futur['date_diff']=df_my_orders_futur['date_diff'].apply(lambda date: date.days)\n",
    "\n"
   ]
  },
  {
   "cell_type": "code",
   "execution_count": 41,
   "id": "2f75b101",
   "metadata": {},
   "outputs": [],
   "source": [
    "df_my_orders = df_my_orders_futur[['order_id', 'customer_unique_id','customer_id', 'order_purchase_timestamp', 'payment_value']]"
   ]
  },
  {
   "cell_type": "code",
   "execution_count": 42,
   "id": "c00a446b",
   "metadata": {},
   "outputs": [],
   "source": [
    "#RFM:\n",
    "#customer_unique_id, nombre_de_commandes, date_depuis_la_derniere_commande, montant_total_client"
   ]
  },
  {
   "cell_type": "code",
   "execution_count": 43,
   "id": "b53ffff7",
   "metadata": {},
   "outputs": [],
   "source": [
    "df_pre_my_customer =df_my_orders_futur[['order_id', 'customer_unique_id', 'customer_id', 'payment_value','date_diff']]"
   ]
  },
  {
   "cell_type": "code",
   "execution_count": 44,
   "id": "a65726e2",
   "metadata": {},
   "outputs": [],
   "source": [
    "#customer_id, nombre_de_commandes, date_depuis_la_derniere_commande, montant_total_client\n",
    "df_my_customer=df_pre_my_customer.groupby('customer_unique_id').agg({'order_id':'count','payment_value':'sum','date_diff':'first'})"
   ]
  },
  {
   "cell_type": "code",
   "execution_count": 45,
   "id": "4d7011ef",
   "metadata": {},
   "outputs": [
    {
     "data": {
      "text/plain": [
       "order_id         0\n",
       "payment_value    0\n",
       "date_diff        0\n",
       "dtype: int64"
      ]
     },
     "execution_count": 45,
     "metadata": {},
     "output_type": "execute_result"
    }
   ],
   "source": [
    "df_my_customer.isna().sum()"
   ]
  },
  {
   "cell_type": "code",
   "execution_count": 46,
   "id": "5c28df86",
   "metadata": {},
   "outputs": [],
   "source": [
    "df_my_customer.reset_index(level=0, inplace=True)"
   ]
  },
  {
   "cell_type": "code",
   "execution_count": 47,
   "id": "75c91127",
   "metadata": {},
   "outputs": [],
   "source": [
    "#renommer la colonne order id en nombre de commande\n",
    "df_my_customer.rename(columns={'order_id':'nbr_orders'},inplace=True)"
   ]
  },
  {
   "cell_type": "code",
   "execution_count": 48,
   "id": "9b082338",
   "metadata": {},
   "outputs": [
    {
     "data": {
      "text/html": [
       "<div>\n",
       "<style scoped>\n",
       "    .dataframe tbody tr th:only-of-type {\n",
       "        vertical-align: middle;\n",
       "    }\n",
       "\n",
       "    .dataframe tbody tr th {\n",
       "        vertical-align: top;\n",
       "    }\n",
       "\n",
       "    .dataframe thead th {\n",
       "        text-align: right;\n",
       "    }\n",
       "</style>\n",
       "<table border=\"1\" class=\"dataframe\">\n",
       "  <thead>\n",
       "    <tr style=\"text-align: right;\">\n",
       "      <th></th>\n",
       "      <th>customer_unique_id</th>\n",
       "      <th>nbr_orders</th>\n",
       "      <th>payment_value</th>\n",
       "      <th>date_diff</th>\n",
       "    </tr>\n",
       "  </thead>\n",
       "  <tbody>\n",
       "    <tr>\n",
       "      <th>68302</th>\n",
       "      <td>b7d76e111c89f7ebf14761390f0f7d17</td>\n",
       "      <td>1</td>\n",
       "      <td>136.23</td>\n",
       "      <td>728</td>\n",
       "    </tr>\n",
       "    <tr>\n",
       "      <th>42995</th>\n",
       "      <td>7390ed59fa1febbfda31a80b4318c8cb</td>\n",
       "      <td>1</td>\n",
       "      <td>154.57</td>\n",
       "      <td>699</td>\n",
       "    </tr>\n",
       "    <tr>\n",
       "      <th>6331</th>\n",
       "      <td>10e89fd8e5c745f81bec101207ba4d7d</td>\n",
       "      <td>1</td>\n",
       "      <td>92.27</td>\n",
       "      <td>699</td>\n",
       "    </tr>\n",
       "    <tr>\n",
       "      <th>52325</th>\n",
       "      <td>8d3a54507421dbd2ce0a1d58046826e0</td>\n",
       "      <td>1</td>\n",
       "      <td>133.46</td>\n",
       "      <td>699</td>\n",
       "    </tr>\n",
       "    <tr>\n",
       "      <th>17675</th>\n",
       "      <td>2f64e403852e6893ae37485d5fcacdaf</td>\n",
       "      <td>1</td>\n",
       "      <td>39.09</td>\n",
       "      <td>699</td>\n",
       "    </tr>\n",
       "    <tr>\n",
       "      <th>...</th>\n",
       "      <td>...</td>\n",
       "      <td>...</td>\n",
       "      <td>...</td>\n",
       "      <td>...</td>\n",
       "    </tr>\n",
       "    <tr>\n",
       "      <th>1534</th>\n",
       "      <td>0421e7a23f21e5d54efed456aedbc513</td>\n",
       "      <td>1</td>\n",
       "      <td>119.42</td>\n",
       "      <td>4</td>\n",
       "    </tr>\n",
       "    <tr>\n",
       "      <th>34436</th>\n",
       "      <td>5c58de6fb80e93396e2f35642666b693</td>\n",
       "      <td>1</td>\n",
       "      <td>510.96</td>\n",
       "      <td>4</td>\n",
       "    </tr>\n",
       "    <tr>\n",
       "      <th>12649</th>\n",
       "      <td>21dbe8eabd00b34492a939c540e2b1a7</td>\n",
       "      <td>1</td>\n",
       "      <td>14.29</td>\n",
       "      <td>4</td>\n",
       "    </tr>\n",
       "    <tr>\n",
       "      <th>47585</th>\n",
       "      <td>7febafa06d9d8f232a900a2937f04338</td>\n",
       "      <td>1</td>\n",
       "      <td>61.29</td>\n",
       "      <td>4</td>\n",
       "    </tr>\n",
       "    <tr>\n",
       "      <th>13676</th>\n",
       "      <td>24ac2b4327e25baf39f2119e4228976a</td>\n",
       "      <td>1</td>\n",
       "      <td>93.75</td>\n",
       "      <td>4</td>\n",
       "    </tr>\n",
       "  </tbody>\n",
       "</table>\n",
       "<p>94989 rows × 4 columns</p>\n",
       "</div>"
      ],
      "text/plain": [
       "                     customer_unique_id  nbr_orders  payment_value  date_diff\n",
       "68302  b7d76e111c89f7ebf14761390f0f7d17           1         136.23        728\n",
       "42995  7390ed59fa1febbfda31a80b4318c8cb           1         154.57        699\n",
       "6331   10e89fd8e5c745f81bec101207ba4d7d           1          92.27        699\n",
       "52325  8d3a54507421dbd2ce0a1d58046826e0           1         133.46        699\n",
       "17675  2f64e403852e6893ae37485d5fcacdaf           1          39.09        699\n",
       "...                                 ...         ...            ...        ...\n",
       "1534   0421e7a23f21e5d54efed456aedbc513           1         119.42          4\n",
       "34436  5c58de6fb80e93396e2f35642666b693           1         510.96          4\n",
       "12649  21dbe8eabd00b34492a939c540e2b1a7           1          14.29          4\n",
       "47585  7febafa06d9d8f232a900a2937f04338           1          61.29          4\n",
       "13676  24ac2b4327e25baf39f2119e4228976a           1          93.75          4\n",
       "\n",
       "[94989 rows x 4 columns]"
      ]
     },
     "execution_count": 48,
     "metadata": {},
     "output_type": "execute_result"
    }
   ],
   "source": [
    "df_my_customer.sort_values(by='date_diff', ascending=False)"
   ]
  },
  {
   "cell_type": "code",
   "execution_count": 49,
   "id": "610dfc07",
   "metadata": {},
   "outputs": [
    {
     "data": {
      "text/plain": [
       "1     92101\n",
       "2      2652\n",
       "3       188\n",
       "4        29\n",
       "5         9\n",
       "6         5\n",
       "7         3\n",
       "9         1\n",
       "16        1\n",
       "Name: nbr_orders, dtype: int64"
      ]
     },
     "execution_count": 49,
     "metadata": {},
     "output_type": "execute_result"
    }
   ],
   "source": [
    "df_my_customer['nbr_orders'].value_counts()"
   ]
  },
  {
   "cell_type": "code",
   "execution_count": 50,
   "id": "352c356d",
   "metadata": {},
   "outputs": [
    {
     "data": {
      "text/plain": [
       "3.0403520407626146"
      ]
     },
     "execution_count": 50,
     "metadata": {},
     "output_type": "execute_result"
    }
   ],
   "source": [
    "len(df_my_customer.loc[df_my_customer['nbr_orders'] > 1])/ len(df_my_customer)*100"
   ]
  },
  {
   "cell_type": "markdown",
   "id": "ebf4bb49",
   "metadata": {},
   "source": [
    " ===> 3% des clients ont effectué plus que deux commandes ! "
   ]
  },
  {
   "cell_type": "code",
   "execution_count": 50,
   "id": "3a307c1e",
   "metadata": {},
   "outputs": [],
   "source": [
    "## Création des fichiers csv pour l'analyse \n",
    "df_my_customer.to_csv('df_my_customer.csv',index=False)\n",
    "df_my_orders_futur.to_csv('df_my_orders_futur.csv',index=False)"
   ]
  },
  {
   "cell_type": "code",
   "execution_count": null,
   "id": "30ea625f",
   "metadata": {},
   "outputs": [],
   "source": []
  }
 ],
 "metadata": {
  "kernelspec": {
   "display_name": "Python 3 (ipykernel)",
   "language": "python",
   "name": "python3"
  },
  "language_info": {
   "codemirror_mode": {
    "name": "ipython",
    "version": 3
   },
   "file_extension": ".py",
   "mimetype": "text/x-python",
   "name": "python",
   "nbconvert_exporter": "python",
   "pygments_lexer": "ipython3",
   "version": "3.9.13"
  }
 },
 "nbformat": 4,
 "nbformat_minor": 5
}
