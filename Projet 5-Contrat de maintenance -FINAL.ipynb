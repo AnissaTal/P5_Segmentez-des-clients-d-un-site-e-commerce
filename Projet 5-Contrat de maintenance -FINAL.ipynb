{
 "cells": [
  {
   "cell_type": "code",
   "execution_count": 2,
   "id": "798bc321",
   "metadata": {},
   "outputs": [],
   "source": [
    "import pandas as pd\n",
    "import numpy as np\n",
    "import matplotlib.pyplot as plt\n",
    "import seaborn as sns\n",
    "from datetime import timedelta\n",
    "from datetime import datetime\n",
    "from datetime import date\n",
    "from sklearn.preprocessing import StandardScaler\n",
    "from sklearn.cluster import KMeans\n",
    "from sklearn.metrics import adjusted_rand_score\n",
    "\n"
   ]
  },
  {
   "cell_type": "code",
   "execution_count": 3,
   "id": "427ac4f7",
   "metadata": {},
   "outputs": [],
   "source": [
    "df_ordres=pd.read_csv('olist_orders_dataset.csv')"
   ]
  },
  {
   "cell_type": "code",
   "execution_count": 4,
   "id": "5d073403",
   "metadata": {},
   "outputs": [],
   "source": [
    "df_customers = pd.read_csv('olist_customers_dataset.csv')"
   ]
  },
  {
   "cell_type": "code",
   "execution_count": 5,
   "id": "cf31f4c2",
   "metadata": {},
   "outputs": [],
   "source": [
    "df_payments =pd.read_csv('olist_order_payments_dataset.csv')"
   ]
  },
  {
   "cell_type": "code",
   "execution_count": 6,
   "id": "c86dc9b8",
   "metadata": {},
   "outputs": [],
   "source": [
    "#customer_unique_id, nombre_de_commandes, date_depuis_la_derniere_commande, montant_total_client"
   ]
  },
  {
   "cell_type": "code",
   "execution_count": 7,
   "id": "a6840305",
   "metadata": {},
   "outputs": [
    {
     "data": {
      "text/plain": [
       "Index(['order_id', 'customer_id', 'order_status', 'order_purchase_timestamp',\n",
       "       'order_approved_at', 'order_delivered_carrier_date',\n",
       "       'order_delivered_customer_date', 'order_estimated_delivery_date'],\n",
       "      dtype='object')"
      ]
     },
     "execution_count": 7,
     "metadata": {},
     "output_type": "execute_result"
    }
   ],
   "source": [
    "df_ordres.columns"
   ]
  },
  {
   "cell_type": "code",
   "execution_count": 8,
   "id": "97583dce",
   "metadata": {},
   "outputs": [
    {
     "data": {
      "text/plain": [
       "Index(['customer_id', 'customer_unique_id', 'customer_zip_code_prefix',\n",
       "       'customer_city', 'customer_state'],\n",
       "      dtype='object')"
      ]
     },
     "execution_count": 8,
     "metadata": {},
     "output_type": "execute_result"
    }
   ],
   "source": [
    "df_customers.columns"
   ]
  },
  {
   "cell_type": "code",
   "execution_count": 9,
   "id": "5c0c141a",
   "metadata": {},
   "outputs": [
    {
     "data": {
      "text/plain": [
       "Index(['order_id', 'payment_sequential', 'payment_type',\n",
       "       'payment_installments', 'payment_value'],\n",
       "      dtype='object')"
      ]
     },
     "execution_count": 9,
     "metadata": {},
     "output_type": "execute_result"
    }
   ],
   "source": [
    "df_payments.columns"
   ]
  },
  {
   "cell_type": "code",
   "execution_count": 10,
   "id": "9ae8e679",
   "metadata": {},
   "outputs": [],
   "source": [
    "df_ordres=df_ordres[['order_id', 'customer_id', 'order_purchase_timestamp']]\n",
    "df_customers=df_customers[['customer_id', 'customer_unique_id']]\n",
    "df_payments=df_payments[['order_id','payment_value']]"
   ]
  },
  {
   "cell_type": "code",
   "execution_count": 11,
   "id": "82e73b93",
   "metadata": {},
   "outputs": [],
   "source": [
    "# creer une table avec des valeurs order_id unique à partir de la table payment\n",
    "df_payments=df_payments.groupby('order_id').agg({'payment_value':'sum'})\n",
    "df_payments.reset_index(level=0, inplace=True)"
   ]
  },
  {
   "cell_type": "code",
   "execution_count": 12,
   "id": "134e6bb6",
   "metadata": {},
   "outputs": [],
   "source": [
    "#creer la table RFM\n",
    "##réjoindre la tableu df_orders et df_customers dans df_RFM\n",
    "df_RFM = pd.merge(left=df_ordres, right=df_customers, how='left', on='customer_id')"
   ]
  },
  {
   "cell_type": "code",
   "execution_count": 13,
   "id": "5bbbe61d",
   "metadata": {},
   "outputs": [],
   "source": [
    "##réjoindre la tableu df_payment et à la table df_RFM\n",
    "df_RFM = pd.merge(left=df_RFM, right=df_payments, how='left', on='order_id')"
   ]
  },
  {
   "cell_type": "code",
   "execution_count": 14,
   "id": "d3ac975a",
   "metadata": {},
   "outputs": [],
   "source": [
    "df_RFM.sort_values('order_purchase_timestamp',ascending= False, inplace=True)"
   ]
  },
  {
   "cell_type": "code",
   "execution_count": 15,
   "id": "2fb2d20f",
   "metadata": {},
   "outputs": [
    {
     "data": {
      "text/html": [
       "<div>\n",
       "<style scoped>\n",
       "    .dataframe tbody tr th:only-of-type {\n",
       "        vertical-align: middle;\n",
       "    }\n",
       "\n",
       "    .dataframe tbody tr th {\n",
       "        vertical-align: top;\n",
       "    }\n",
       "\n",
       "    .dataframe thead th {\n",
       "        text-align: right;\n",
       "    }\n",
       "</style>\n",
       "<table border=\"1\" class=\"dataframe\">\n",
       "  <thead>\n",
       "    <tr style=\"text-align: right;\">\n",
       "      <th></th>\n",
       "      <th>order_id</th>\n",
       "      <th>customer_id</th>\n",
       "      <th>order_purchase_timestamp</th>\n",
       "      <th>customer_unique_id</th>\n",
       "      <th>payment_value</th>\n",
       "    </tr>\n",
       "  </thead>\n",
       "  <tbody>\n",
       "    <tr>\n",
       "      <th>60938</th>\n",
       "      <td>10a045cdf6a5650c21e9cfeb60384c16</td>\n",
       "      <td>a4b417188addbc05b26b72d5e44837a1</td>\n",
       "      <td>2018-10-17 17:30:18</td>\n",
       "      <td>87ab9fec999db8bd5774917de3cdf01c</td>\n",
       "      <td>89.71</td>\n",
       "    </tr>\n",
       "    <tr>\n",
       "      <th>68373</th>\n",
       "      <td>b059ee4de278302d550a3035c4cdb740</td>\n",
       "      <td>856336203359aa6a61bf3826f7d84c49</td>\n",
       "      <td>2018-10-16 20:16:02</td>\n",
       "      <td>262e1f1e26e92e86375f86840b4ffd63</td>\n",
       "      <td>222.03</td>\n",
       "    </tr>\n",
       "    <tr>\n",
       "      <th>31891</th>\n",
       "      <td>a2ac6dad85cf8af5b0afb510a240fe8c</td>\n",
       "      <td>4c2ec60c29d10c34bd49cb88aa85cfc4</td>\n",
       "      <td>2018-10-03 18:55:29</td>\n",
       "      <td>af5454198a97379394cacf676e1e96cb</td>\n",
       "      <td>197.55</td>\n",
       "    </tr>\n",
       "    <tr>\n",
       "      <th>88500</th>\n",
       "      <td>616fa7d4871b87832197b2a137a115d2</td>\n",
       "      <td>bf6181a85bbb4115736c0a8db1a53be3</td>\n",
       "      <td>2018-10-01 15:30:09</td>\n",
       "      <td>634420a0ea42302205032ed44ac7fccc</td>\n",
       "      <td>80.38</td>\n",
       "    </tr>\n",
       "    <tr>\n",
       "      <th>50387</th>\n",
       "      <td>392ed9afd714e3c74767d0c4d3e3f477</td>\n",
       "      <td>2823ffda607a2316375088e0d00005ec</td>\n",
       "      <td>2018-09-29 09:13:03</td>\n",
       "      <td>9bb92bebd4cb7511e1a02d5e50bc4655</td>\n",
       "      <td>137.03</td>\n",
       "    </tr>\n",
       "    <tr>\n",
       "      <th>...</th>\n",
       "      <td>...</td>\n",
       "      <td>...</td>\n",
       "      <td>...</td>\n",
       "      <td>...</td>\n",
       "      <td>...</td>\n",
       "    </tr>\n",
       "    <tr>\n",
       "      <th>83078</th>\n",
       "      <td>71303d7e93b399f5bcd537d124c0bcfa</td>\n",
       "      <td>b106b360fe2ef8849fbbd056f777b4d5</td>\n",
       "      <td>2016-10-02 22:07:52</td>\n",
       "      <td>0eb1ee9dba87f5b36b4613a65074337c</td>\n",
       "      <td>109.34</td>\n",
       "    </tr>\n",
       "    <tr>\n",
       "      <th>30710</th>\n",
       "      <td>bfbd0f9bdef84302105ad712db648a6c</td>\n",
       "      <td>86dc2ffce2dfff336de2f386a786e574</td>\n",
       "      <td>2016-09-15 12:16:38</td>\n",
       "      <td>830d5b7aaa3b6f1e9ad63703bec97d23</td>\n",
       "      <td>NaN</td>\n",
       "    </tr>\n",
       "    <tr>\n",
       "      <th>10071</th>\n",
       "      <td>809a282bbd5dbcabb6f2f724fca862ec</td>\n",
       "      <td>622e13439d6b5a0b486c435618b2679e</td>\n",
       "      <td>2016-09-13 15:24:19</td>\n",
       "      <td>009b0127b727ab0ba422f6d9604487c7</td>\n",
       "      <td>40.95</td>\n",
       "    </tr>\n",
       "    <tr>\n",
       "      <th>4396</th>\n",
       "      <td>e5fa5a7210941f7d56d0208e4e071d35</td>\n",
       "      <td>683c54fc24d40ee9f8a6fc179fd9856c</td>\n",
       "      <td>2016-09-05 00:15:34</td>\n",
       "      <td>4854e9b3feff728c13ee5fc7d1547e92</td>\n",
       "      <td>75.06</td>\n",
       "    </tr>\n",
       "    <tr>\n",
       "      <th>4541</th>\n",
       "      <td>2e7a8482f6fb09756ca50c10d7bfc047</td>\n",
       "      <td>08c5351a6aca1c1589a38f244edeee9d</td>\n",
       "      <td>2016-09-04 21:15:19</td>\n",
       "      <td>b7d76e111c89f7ebf14761390f0f7d17</td>\n",
       "      <td>136.23</td>\n",
       "    </tr>\n",
       "  </tbody>\n",
       "</table>\n",
       "<p>99441 rows × 5 columns</p>\n",
       "</div>"
      ],
      "text/plain": [
       "                               order_id                       customer_id  \\\n",
       "60938  10a045cdf6a5650c21e9cfeb60384c16  a4b417188addbc05b26b72d5e44837a1   \n",
       "68373  b059ee4de278302d550a3035c4cdb740  856336203359aa6a61bf3826f7d84c49   \n",
       "31891  a2ac6dad85cf8af5b0afb510a240fe8c  4c2ec60c29d10c34bd49cb88aa85cfc4   \n",
       "88500  616fa7d4871b87832197b2a137a115d2  bf6181a85bbb4115736c0a8db1a53be3   \n",
       "50387  392ed9afd714e3c74767d0c4d3e3f477  2823ffda607a2316375088e0d00005ec   \n",
       "...                                 ...                               ...   \n",
       "83078  71303d7e93b399f5bcd537d124c0bcfa  b106b360fe2ef8849fbbd056f777b4d5   \n",
       "30710  bfbd0f9bdef84302105ad712db648a6c  86dc2ffce2dfff336de2f386a786e574   \n",
       "10071  809a282bbd5dbcabb6f2f724fca862ec  622e13439d6b5a0b486c435618b2679e   \n",
       "4396   e5fa5a7210941f7d56d0208e4e071d35  683c54fc24d40ee9f8a6fc179fd9856c   \n",
       "4541   2e7a8482f6fb09756ca50c10d7bfc047  08c5351a6aca1c1589a38f244edeee9d   \n",
       "\n",
       "      order_purchase_timestamp                customer_unique_id  \\\n",
       "60938      2018-10-17 17:30:18  87ab9fec999db8bd5774917de3cdf01c   \n",
       "68373      2018-10-16 20:16:02  262e1f1e26e92e86375f86840b4ffd63   \n",
       "31891      2018-10-03 18:55:29  af5454198a97379394cacf676e1e96cb   \n",
       "88500      2018-10-01 15:30:09  634420a0ea42302205032ed44ac7fccc   \n",
       "50387      2018-09-29 09:13:03  9bb92bebd4cb7511e1a02d5e50bc4655   \n",
       "...                        ...                               ...   \n",
       "83078      2016-10-02 22:07:52  0eb1ee9dba87f5b36b4613a65074337c   \n",
       "30710      2016-09-15 12:16:38  830d5b7aaa3b6f1e9ad63703bec97d23   \n",
       "10071      2016-09-13 15:24:19  009b0127b727ab0ba422f6d9604487c7   \n",
       "4396       2016-09-05 00:15:34  4854e9b3feff728c13ee5fc7d1547e92   \n",
       "4541       2016-09-04 21:15:19  b7d76e111c89f7ebf14761390f0f7d17   \n",
       "\n",
       "       payment_value  \n",
       "60938          89.71  \n",
       "68373         222.03  \n",
       "31891         197.55  \n",
       "88500          80.38  \n",
       "50387         137.03  \n",
       "...              ...  \n",
       "83078         109.34  \n",
       "30710            NaN  \n",
       "10071          40.95  \n",
       "4396           75.06  \n",
       "4541          136.23  \n",
       "\n",
       "[99441 rows x 5 columns]"
      ]
     },
     "execution_count": 15,
     "metadata": {},
     "output_type": "execute_result"
    }
   ],
   "source": [
    "df_RFM"
   ]
  },
  {
   "cell_type": "code",
   "execution_count": 16,
   "id": "74d5b998",
   "metadata": {},
   "outputs": [],
   "source": [
    "#la fonction qui permet de retourner une base RFM compris entre la Ta et i nombre de semaine après Ta\n",
    "def Calculer_rfm(df,Ta):\n",
    "    \n",
    "#convertir la date donné par l'user au format date\n",
    "        Ta=pd.to_datetime(Ta,format=\"%d-%m-%Y\")\n",
    "#changer le type de la colonne date en type datetime\n",
    "        df['order_purchase_timestamp'] = pd.to_datetime(df['order_purchase_timestamp'], errors = 'coerce')\n",
    "    \n",
    "# trier les lignes en fonctions de la colonne date\n",
    "        df.sort_values('order_purchase_timestamp',ascending= False, inplace=True)\n",
    "\n",
    "#toutes les lignes jusqu'a à une date    \n",
    "        df=df[df['order_purchase_timestamp'] <= Ta]\n",
    "#regrouper les commandes en fonction de client\n",
    "        df=df.groupby('customer_unique_id').agg({'order_id':'count','payment_value':'sum','order_purchase_timestamp':'first'})\n",
    "        df.reset_index(level=0, inplace=True) \n",
    "        df.drop(['customer_unique_id'], axis=1, inplace=True)\n",
    "\n",
    "#renommer la colonne order id en nombre de commande\n",
    "        df.rename(columns={'order_id':'nbr_orders'},inplace=True)                \n",
    "# créer une nouvelle colonne date dif\n",
    "       # df['order_purchase_timestamp'] = pd.to_datetime(df['order_purchase_timestamp'], errors = 'coerce')\n",
    "        df['order_purchase_timestamp'] = pd.to_datetime(df['order_purchase_timestamp'])\n",
    "        Ta=pd.to_datetime(Ta)\n",
    "        df['date_diff']= df['order_purchase_timestamp'].apply(lambda date: Ta - date )\n",
    "\n",
    "# prendre uniquement les jours\n",
    "        df['date_diff']=df['date_diff'].apply(lambda date: date.days)\n",
    "\n",
    "        df.drop(['order_purchase_timestamp'], axis=1, inplace=True)\n",
    "\n",
    "        \n",
    "        return df"
   ]
  },
  {
   "cell_type": "code",
   "execution_count": 17,
   "id": "f04c8175",
   "metadata": {},
   "outputs": [],
   "source": [
    "#RFM jusqu'à Ta \n",
    "df_ta =Calculer_rfm(df_RFM,'01-01-2018')\n"
   ]
  },
  {
   "cell_type": "code",
   "execution_count": 18,
   "id": "b77f73f6",
   "metadata": {},
   "outputs": [],
   "source": [
    "\n",
    "\n",
    "scaler0 = StandardScaler()\n",
    "scaler0.fit(df_ta)\n",
    "df_ta_S0 = scaler0.transform(df_ta)\n"
   ]
  },
  {
   "cell_type": "code",
   "execution_count": 19,
   "id": "e2671fa2",
   "metadata": {},
   "outputs": [],
   "source": [
    "\n",
    "model0 =  KMeans(n_clusters= 4)\n",
    "model0.fit(df_ta_S0)\n",
    "C0=model0.predict(df_ta_S0)\n"
   ]
  },
  {
   "cell_type": "code",
   "execution_count": 20,
   "id": "78da6182",
   "metadata": {},
   "outputs": [
    {
     "name": "stdout",
     "output_type": "stream",
     "text": [
      "[0.963682522040397, 0.947247792126977, 0.928399013296557, 0.8933717563296693, 0.8855480650569858, 0.866806017488968, 0.826763311231075, 0.8015733570269422, 0.7876088740138161, 0.7638526887616679, 0.7362548668801413, 0.7286326372588102, 0.7092872591317904, 0.696742862552956, 0.6796455822845638, 0.6508961441331259, 0.6199219415525721, 0.5265190192624973, 0.4948341492244865, 0.4777739416157437, 0.45786362808540443, 0.44557481470781213, 0.43932504143667245, 0.4129236745671205, 0.387492209499696, 0.36577031136349164, 0.3433034748876451, 0.3208437474339638, 0.3058464087588861, 0.29299759409237874, 0.28595891190576067, 0.38422862520773854, 0.39143185603521075, 0.37430218822609546, 0.34596691858088185, 0.3174799438581677, 0.2958825645991799, 0.26658747925590565, 0.24304560435664027]\n"
     ]
    }
   ],
   "source": [
    "##boucle permet d'ajouter le nombre de semaine\n",
    "\n",
    "\n",
    "# i allant de 1 à 10\n",
    "date_debut = pd.to_datetime('01-01-2018',format=\"%d-%m-%Y\")\n",
    "tab=[]\n",
    "for i in range(1,40):\n",
    "    df_ta1s =Calculer_rfm(df_RFM,date_debut + timedelta(weeks=i))\n",
    "    df_ta1s_S1=scaler0.transform(df_ta1s)\n",
    "    \n",
    "    C_init= model0.predict(df_ta1s_S1)\n",
    "\n",
    "    model =KMeans(n_clusters= 4)\n",
    "    model.fit(df_ta1s_S1)\n",
    "    C_new = model.predict(df_ta1s_S1)\n",
    "    \n",
    "    ari =adjusted_rand_score(C_init,C_new)\n",
    "    tab.append(ari)\n",
    "print(tab)\n",
    "\n",
    "#couvrir toute la période de "
   ]
  },
  {
   "cell_type": "code",
   "execution_count": 21,
   "id": "f8967b9f",
   "metadata": {},
   "outputs": [
    {
     "data": {
      "image/png": "[encoded data removed]",
      "text/plain": [
       "<Figure size 640x480 with 1 Axes>"
      ]
     },
     "metadata": {},
     "output_type": "display_data"
    }
   ],
   "source": [
    "plt.plot(range(1,40),tab)\n",
    "plt.title(\"score ARI\")\n",
    "plt.xlabel(\"nombre de semaines\")\n",
    "plt.ylabel(\"ARI\")\n",
    "plt.show()"
   ]
  },
  {
   "cell_type": "markdown",
   "id": "eee1afb6",
   "metadata": {},
   "source": [
    "\n",
    "==> notre segmentation clients est fiable pour une durée de 9 semaines en vue d'analyse de raphe de score ARI, nous préconisant un rénouvellement d'analyses tous les 8 semaines. "
   ]
  },
  {
   "cell_type": "code",
   "execution_count": null,
   "id": "6160adc3",
   "metadata": {},
   "outputs": [],
   "source": []
  },
  {
   "cell_type": "code",
   "execution_count": null,
   "id": "f6bf1ff7",
   "metadata": {},
   "outputs": [],
   "source": []
  }
 ],
 "metadata": {
  "kernelspec": {
   "display_name": "Python 3 (ipykernel)",
   "language": "python",
   "name": "python3"
  },
  "language_info": {
   "codemirror_mode": {
    "name": "ipython",
    "version": 3
   },
   "file_extension": ".py",
   "mimetype": "text/x-python",
   "name": "python",
   "nbconvert_exporter": "python",
   "pygments_lexer": "ipython3",
   "version": "3.9.13"
  }
 },
 "nbformat": 4,
 "nbformat_minor": 5
}
